{
 "cells": [
  {
   "cell_type": "markdown",
   "metadata": {},
   "source": [
    "# Return Propensity using ICP4D and Watson Machine Learning."
   ]
  },
  {
   "cell_type": "markdown",
   "metadata": {},
   "source": [
    "We'll use this notebook to create a machine learning model to predict customer churn."
   ]
  },
  {
   "cell_type": "markdown",
   "metadata": {},
   "source": [
    "## 1.0 Import the data set"
   ]
  },
  {
   "cell_type": "markdown",
   "metadata": {},
   "source": [
    "We need to import the data in the TON_PREV_NEW.csv file. "
   ]
  },
  {
   "cell_type": "code",
   "execution_count": 1,
   "metadata": {},
   "outputs": [
    {
     "data": {
      "text/html": [
       "<div>\n",
       "<style scoped>\n",
       "    .dataframe tbody tr th:only-of-type {\n",
       "        vertical-align: middle;\n",
       "    }\n",
       "\n",
       "    .dataframe tbody tr th {\n",
       "        vertical-align: top;\n",
       "    }\n",
       "\n",
       "    .dataframe thead th {\n",
       "        text-align: right;\n",
       "    }\n",
       "</style>\n",
       "<table border=\"1\" class=\"dataframe\">\n",
       "  <thead>\n",
       "    <tr style=\"text-align: right;\">\n",
       "      <th></th>\n",
       "      <th>BASKET_SIZE</th>\n",
       "      <th>EXTN_COMPOSITION</th>\n",
       "      <th>CARRIER_SERVICE_CODE_OL</th>\n",
       "      <th>CATEGORY</th>\n",
       "      <th>COUNTRY_OF_ORIGIN_OI</th>\n",
       "      <th>DAY_OF_MONTH</th>\n",
       "      <th>DAY_OF_WEEK</th>\n",
       "      <th>DAY_OF_YEAR</th>\n",
       "      <th>EXTN_BRAND</th>\n",
       "      <th>EXTN_DISCOUNT_ID</th>\n",
       "      <th>...</th>\n",
       "      <th>OTHER_CHARGES</th>\n",
       "      <th>OTHER_CHARGES_OL</th>\n",
       "      <th>REQ_DELIVERY_DATE</th>\n",
       "      <th>TOTAL_AMOUNT_USD</th>\n",
       "      <th>WEEKEND</th>\n",
       "      <th>ZIP_CODE</th>\n",
       "      <th>MTS_CTS</th>\n",
       "      <th>HOUR_OF_DAY</th>\n",
       "      <th>LOCKID</th>\n",
       "      <th>RETURN_FLAG</th>\n",
       "    </tr>\n",
       "  </thead>\n",
       "  <tbody>\n",
       "    <tr>\n",
       "      <th>0</th>\n",
       "      <td>1</td>\n",
       "      <td>NaN</td>\n",
       "      <td>STANDARD</td>\n",
       "      <td>Slip</td>\n",
       "      <td>CN</td>\n",
       "      <td>14</td>\n",
       "      <td>Saturday</td>\n",
       "      <td>287</td>\n",
       "      <td>XYZAA</td>\n",
       "      <td>None</td>\n",
       "      <td>...</td>\n",
       "      <td>0.0</td>\n",
       "      <td>0.0</td>\n",
       "      <td>0</td>\n",
       "      <td>0.000000</td>\n",
       "      <td>1</td>\n",
       "      <td>Zipcode_261</td>\n",
       "      <td>1</td>\n",
       "      <td>16</td>\n",
       "      <td>26</td>\n",
       "      <td>0</td>\n",
       "    </tr>\n",
       "    <tr>\n",
       "      <th>1</th>\n",
       "      <td>1</td>\n",
       "      <td>NaN</td>\n",
       "      <td>STANDARD</td>\n",
       "      <td>Slip</td>\n",
       "      <td>CN</td>\n",
       "      <td>17</td>\n",
       "      <td>Tuesday</td>\n",
       "      <td>290</td>\n",
       "      <td>XYZAA</td>\n",
       "      <td>None</td>\n",
       "      <td>...</td>\n",
       "      <td>0.0</td>\n",
       "      <td>0.0</td>\n",
       "      <td>0</td>\n",
       "      <td>0.000000</td>\n",
       "      <td>0</td>\n",
       "      <td>Zipcode_165</td>\n",
       "      <td>2</td>\n",
       "      <td>16</td>\n",
       "      <td>36</td>\n",
       "      <td>0</td>\n",
       "    </tr>\n",
       "    <tr>\n",
       "      <th>2</th>\n",
       "      <td>1</td>\n",
       "      <td>85% Polyamide, 15% Elastane</td>\n",
       "      <td>PREMIER_EVENING</td>\n",
       "      <td>Slip</td>\n",
       "      <td>CN</td>\n",
       "      <td>19</td>\n",
       "      <td>Thursday</td>\n",
       "      <td>292</td>\n",
       "      <td>XYZAA</td>\n",
       "      <td>None</td>\n",
       "      <td>...</td>\n",
       "      <td>25.0</td>\n",
       "      <td>0.0</td>\n",
       "      <td>0</td>\n",
       "      <td>40.000000</td>\n",
       "      <td>0</td>\n",
       "      <td>Zipcode_599</td>\n",
       "      <td>11</td>\n",
       "      <td>17</td>\n",
       "      <td>215</td>\n",
       "      <td>1</td>\n",
       "    </tr>\n",
       "    <tr>\n",
       "      <th>3</th>\n",
       "      <td>1</td>\n",
       "      <td>54% Polyamide, 46% Polyester</td>\n",
       "      <td>STANDARD</td>\n",
       "      <td>Slip</td>\n",
       "      <td>CN</td>\n",
       "      <td>24</td>\n",
       "      <td>Tuesday</td>\n",
       "      <td>297</td>\n",
       "      <td>XYZAA</td>\n",
       "      <td>None</td>\n",
       "      <td>...</td>\n",
       "      <td>0.0</td>\n",
       "      <td>0.0</td>\n",
       "      <td>0</td>\n",
       "      <td>0.000000</td>\n",
       "      <td>0</td>\n",
       "      <td>Zipcode_261</td>\n",
       "      <td>1</td>\n",
       "      <td>15</td>\n",
       "      <td>25</td>\n",
       "      <td>0</td>\n",
       "    </tr>\n",
       "    <tr>\n",
       "      <th>4</th>\n",
       "      <td>2</td>\n",
       "      <td>93% Cotton, 7% Elastane</td>\n",
       "      <td>STANDARD</td>\n",
       "      <td>Maniche Lunghe</td>\n",
       "      <td>PT</td>\n",
       "      <td>30</td>\n",
       "      <td>Monday</td>\n",
       "      <td>303</td>\n",
       "      <td>XYZAB</td>\n",
       "      <td>None</td>\n",
       "      <td>...</td>\n",
       "      <td>13.0</td>\n",
       "      <td>0.0</td>\n",
       "      <td>0</td>\n",
       "      <td>251.192578</td>\n",
       "      <td>0</td>\n",
       "      <td>Zipcode_228</td>\n",
       "      <td>12</td>\n",
       "      <td>13</td>\n",
       "      <td>179</td>\n",
       "      <td>0</td>\n",
       "    </tr>\n",
       "  </tbody>\n",
       "</table>\n",
       "<p>5 rows × 27 columns</p>\n",
       "</div>"
      ],
      "text/plain": [
       "   BASKET_SIZE              EXTN_COMPOSITION CARRIER_SERVICE_CODE_OL  \\\n",
       "0            1                           NaN                STANDARD   \n",
       "1            1                           NaN                STANDARD   \n",
       "2            1   85% Polyamide, 15% Elastane         PREMIER_EVENING   \n",
       "3            1  54% Polyamide, 46% Polyester                STANDARD   \n",
       "4            2       93% Cotton, 7% Elastane                STANDARD   \n",
       "\n",
       "         CATEGORY COUNTRY_OF_ORIGIN_OI  DAY_OF_MONTH DAY_OF_WEEK  DAY_OF_YEAR  \\\n",
       "0            Slip                   CN            14    Saturday          287   \n",
       "1            Slip                   CN            17     Tuesday          290   \n",
       "2            Slip                   CN            19    Thursday          292   \n",
       "3            Slip                   CN            24     Tuesday          297   \n",
       "4  Maniche Lunghe                   PT            30      Monday          303   \n",
       "\n",
       "  EXTN_BRAND EXTN_DISCOUNT_ID  ... OTHER_CHARGES OTHER_CHARGES_OL  \\\n",
       "0      XYZAA             None  ...           0.0              0.0   \n",
       "1      XYZAA             None  ...           0.0              0.0   \n",
       "2      XYZAA             None  ...          25.0              0.0   \n",
       "3      XYZAA             None  ...           0.0              0.0   \n",
       "4      XYZAB             None  ...          13.0              0.0   \n",
       "\n",
       "  REQ_DELIVERY_DATE TOTAL_AMOUNT_USD WEEKEND     ZIP_CODE  MTS_CTS  \\\n",
       "0                 0         0.000000       1  Zipcode_261        1   \n",
       "1                 0         0.000000       0  Zipcode_165        2   \n",
       "2                 0        40.000000       0  Zipcode_599       11   \n",
       "3                 0         0.000000       0  Zipcode_261        1   \n",
       "4                 0       251.192578       0  Zipcode_228       12   \n",
       "\n",
       "   HOUR_OF_DAY  LOCKID  RETURN_FLAG  \n",
       "0           16      26            0  \n",
       "1           16      36            0  \n",
       "2           17     215            1  \n",
       "3           15      25            0  \n",
       "4           13     179            0  \n",
       "\n",
       "[5 rows x 27 columns]"
      ]
     },
     "execution_count": 1,
     "metadata": {},
     "output_type": "execute_result"
    }
   ],
   "source": [
    "import os, pandas as pd\n",
    "# Add asset from file system\n",
    "df = pd.read_csv('/project_data/data_asset/TON_PREV_NEW.csv')\n",
    "df.head()"
   ]
  },
  {
   "cell_type": "markdown",
   "metadata": {},
   "source": [
    "## 2.0 Clean the data"
   ]
  },
  {
   "cell_type": "markdown",
   "metadata": {},
   "source": [
    "### 2.1 We will first fill all NA(s) and empty values with 0."
   ]
  },
  {
   "cell_type": "code",
   "execution_count": 2,
   "metadata": {},
   "outputs": [],
   "source": [
    "df=df.fillna(0)"
   ]
  },
  {
   "cell_type": "markdown",
   "metadata": {},
   "source": [
    "### 2.2 Next we will see if we have any columns of dtype=object. These will then be converted to category codes in order to be fed into the model."
   ]
  },
  {
   "cell_type": "code",
   "execution_count": 3,
   "metadata": {},
   "outputs": [
    {
     "data": {
      "text/plain": [
       "BASKET_SIZE                  int64\n",
       "EXTN_COMPOSITION            object\n",
       "CARRIER_SERVICE_CODE_OL     object\n",
       "CATEGORY                    object\n",
       "COUNTRY_OF_ORIGIN_OI        object\n",
       "DAY_OF_MONTH                 int64\n",
       "DAY_OF_WEEK                 object\n",
       "DAY_OF_YEAR                  int64\n",
       "EXTN_BRAND                  object\n",
       "EXTN_DISCOUNT_ID            object\n",
       "EXTN_IS_GIFT                object\n",
       "EXTN_IS_PREORDER            object\n",
       "EXTN_SHIP_TO_CITY           object\n",
       "EXTN_SHIP_TO_COUNTRY        object\n",
       "EXTN_SEASON                 object\n",
       "LIST_PRICE                   int64\n",
       "MONTH_OF_YEAR                int64\n",
       "OTHER_CHARGES              float64\n",
       "OTHER_CHARGES_OL           float64\n",
       "REQ_DELIVERY_DATE            int64\n",
       "TOTAL_AMOUNT_USD           float64\n",
       "WEEKEND                      int64\n",
       "ZIP_CODE                    object\n",
       "MTS_CTS                      int64\n",
       "HOUR_OF_DAY                  int64\n",
       "LOCKID                       int64\n",
       "RETURN_FLAG                  int64\n",
       "dtype: object"
      ]
     },
     "execution_count": 3,
     "metadata": {},
     "output_type": "execute_result"
    }
   ],
   "source": [
    "df.dtypes"
   ]
  },
  {
   "cell_type": "code",
   "execution_count": 4,
   "metadata": {},
   "outputs": [
    {
     "name": "stdout",
     "output_type": "stream",
     "text": [
      "['EXTN_COMPOSITION', 'CARRIER_SERVICE_CODE_OL', 'CATEGORY', 'COUNTRY_OF_ORIGIN_OI', 'DAY_OF_WEEK', 'EXTN_BRAND', 'EXTN_DISCOUNT_ID', 'EXTN_IS_GIFT', 'EXTN_IS_PREORDER', 'EXTN_SHIP_TO_CITY', 'EXTN_SHIP_TO_COUNTRY', 'EXTN_SEASON', 'ZIP_CODE'] ['BASKET_SIZE', 'DAY_OF_MONTH', 'DAY_OF_YEAR', 'LIST_PRICE', 'MONTH_OF_YEAR', 'OTHER_CHARGES', 'OTHER_CHARGES_OL', 'REQ_DELIVERY_DATE', 'TOTAL_AMOUNT_USD', 'WEEKEND', 'MTS_CTS', 'HOUR_OF_DAY', 'LOCKID', 'RETURN_FLAG']\n"
     ]
    }
   ],
   "source": [
    "qual = list( df.loc[:,df.dtypes == 'object'].columns.values )\n",
    "for col in qual:\n",
    "     df[col] = df[col].astype('category')\n",
    "quant = list( df.loc[:,df.dtypes != 'category'].columns.values )\n",
    "print(qual,quant)"
   ]
  },
  {
   "cell_type": "code",
   "execution_count": 5,
   "metadata": {},
   "outputs": [],
   "source": [
    "cats = list( df.loc[:,df.dtypes == 'category'].columns.values)\n",
    "categories={}\n",
    "for col in cats:\n",
    "    categories[col]= dict(enumerate(df[col].cat.categories))"
   ]
  },
  {
   "cell_type": "code",
   "execution_count": 6,
   "metadata": {},
   "outputs": [
    {
     "data": {
      "text/plain": [
       "BASKET_SIZE                   int64\n",
       "EXTN_COMPOSITION           category\n",
       "CARRIER_SERVICE_CODE_OL    category\n",
       "CATEGORY                   category\n",
       "COUNTRY_OF_ORIGIN_OI       category\n",
       "DAY_OF_MONTH                  int64\n",
       "DAY_OF_WEEK                category\n",
       "DAY_OF_YEAR                   int64\n",
       "EXTN_BRAND                 category\n",
       "EXTN_DISCOUNT_ID           category\n",
       "EXTN_IS_GIFT               category\n",
       "EXTN_IS_PREORDER           category\n",
       "EXTN_SHIP_TO_CITY          category\n",
       "EXTN_SHIP_TO_COUNTRY       category\n",
       "EXTN_SEASON                category\n",
       "LIST_PRICE                    int64\n",
       "MONTH_OF_YEAR                 int64\n",
       "OTHER_CHARGES               float64\n",
       "OTHER_CHARGES_OL            float64\n",
       "REQ_DELIVERY_DATE             int64\n",
       "TOTAL_AMOUNT_USD            float64\n",
       "WEEKEND                       int64\n",
       "ZIP_CODE                   category\n",
       "MTS_CTS                       int64\n",
       "HOUR_OF_DAY                   int64\n",
       "LOCKID                        int64\n",
       "RETURN_FLAG                   int64\n",
       "dtype: object"
      ]
     },
     "execution_count": 6,
     "metadata": {},
     "output_type": "execute_result"
    }
   ],
   "source": [
    "df.dtypes"
   ]
  },
  {
   "cell_type": "markdown",
   "metadata": {},
   "source": [
    "### 2.3 Next, we find out how many orders were returned and how many were not returned."
   ]
  },
  {
   "cell_type": "code",
   "execution_count": 7,
   "metadata": {},
   "outputs": [
    {
     "data": {
      "text/plain": [
       "0    128487\n",
       "1     24287\n",
       "Name: RETURN_FLAG, dtype: int64"
      ]
     },
     "execution_count": 7,
     "metadata": {},
     "output_type": "execute_result"
    }
   ],
   "source": [
    "df[\"RETURN_FLAG\"].value_counts()"
   ]
  },
  {
   "cell_type": "markdown",
   "metadata": {},
   "source": [
    "### Here we can see that there are ~24K orders that have been returned and ~128K orders that have not been returned. "
   ]
  },
  {
   "cell_type": "markdown",
   "metadata": {},
   "source": [
    "### 2.4 Let's split our data into training and test sets."
   ]
  },
  {
   "cell_type": "code",
   "execution_count": 8,
   "metadata": {},
   "outputs": [],
   "source": [
    "from sklearn.model_selection import train_test_split\n",
    "X=(df.drop([\"RETURN_FLAG\"], axis=1))\n",
    "y=df['RETURN_FLAG']\n",
    "X_train, X_test, y_train, y_test = train_test_split(X, y, test_size=1/3., random_state=42)"
   ]
  },
  {
   "cell_type": "markdown",
   "metadata": {},
   "source": [
    "## 3.0 Install Custom Modules for the Pipeline Transformations"
   ]
  },
  {
   "cell_type": "markdown",
   "metadata": {},
   "source": [
    "### 3.1 Let us now install the custom transformation library that we had uploaded to the project - CustTrans-0.2.zip"
   ]
  },
  {
   "cell_type": "code",
   "execution_count": 9,
   "metadata": {},
   "outputs": [
    {
     "name": "stdout",
     "output_type": "stream",
     "text": [
      "Processing /project_data/data_asset/CustTrans-0.2.zip\n",
      "Collecting sklearn (from CustTrans==0.1)\n",
      "  Downloading https://files.pythonhosted.org/packages/1e/7a/dbb3be0ce9bd5c8b7e3d87328e79063f8b263b2b1bfa4774cb1147bfcd3f/sklearn-0.0.tar.gz\n",
      "Requirement already satisfied, skipping upgrade: pandas in /opt/conda/envs/Python-3.6/lib/python3.6/site-packages (from CustTrans==0.1) (0.24.1)\n",
      "Collecting scikit-multilearn (from CustTrans==0.1)\n",
      "\u001b[?25l  Downloading https://files.pythonhosted.org/packages/bb/1f/e6ff649c72a1cdf2c7a1d31eb21705110ce1c5d3e7e26b2cc300e1637272/scikit_multilearn-0.2.0-py3-none-any.whl (89kB)\n",
      "\u001b[K     |################################| 92kB 3.9MB/s eta 0:00:011\n",
      "\u001b[?25hRequirement already satisfied, skipping upgrade: scikit-learn in /opt/conda/envs/Python-3.6/lib/python3.6/site-packages (from sklearn->CustTrans==0.1) (0.20.3)\n",
      "Requirement already satisfied, skipping upgrade: python-dateutil>=2.5.0 in /opt/conda/envs/Python-3.6/lib/python3.6/site-packages (from pandas->CustTrans==0.1) (2.7.5)\n",
      "Requirement already satisfied, skipping upgrade: pytz>=2011k in /opt/conda/envs/Python-3.6/lib/python3.6/site-packages (from pandas->CustTrans==0.1) (2018.9)\n",
      "Requirement already satisfied, skipping upgrade: numpy>=1.12.0 in /opt/conda/envs/Python-3.6/lib/python3.6/site-packages (from pandas->CustTrans==0.1) (1.15.4)\n",
      "Requirement already satisfied, skipping upgrade: scipy>=0.13.3 in /opt/conda/envs/Python-3.6/lib/python3.6/site-packages (from scikit-learn->sklearn->CustTrans==0.1) (1.2.0)\n",
      "Requirement already satisfied, skipping upgrade: six>=1.5 in /opt/conda/envs/Python-3.6/lib/python3.6/site-packages (from python-dateutil>=2.5.0->pandas->CustTrans==0.1) (1.12.0)\n",
      "Building wheels for collected packages: CustTrans, sklearn\n",
      "  Building wheel for CustTrans (setup.py) ... \u001b[?25ldone\n",
      "\u001b[?25h  Created wheel for CustTrans: filename=CustTrans-0.1-cp36-none-any.whl size=1801 sha256=b48653717755b2699ca30e934ce4b18b4dfa58287fee29217a111e7a174a6ec8\n",
      "  Stored in directory: /home/wsuser/.cache/pip/wheels/d8/13/54/c87b5cac3899188ef9b3013bce4976e8726028e908d07643c6\n",
      "  Building wheel for sklearn (setup.py) ... \u001b[?25ldone\n",
      "\u001b[?25h  Created wheel for sklearn: filename=sklearn-0.0-py2.py3-none-any.whl size=1315 sha256=afa2715f07eca6a71f9b36c1c8f981f273a5c609645d99b7fd72cfec44bf5c38\n",
      "  Stored in directory: /home/wsuser/.cache/pip/wheels/76/03/bb/589d421d27431bcd2c6da284d5f2286c8e3b2ea3cf1594c074\n",
      "Successfully built CustTrans sklearn\n",
      "Installing collected packages: sklearn, scikit-multilearn, CustTrans\n",
      "Successfully installed CustTrans-0.1 scikit-multilearn-0.2.0 sklearn-0.0\n"
     ]
    }
   ],
   "source": [
    "!pip install --upgrade /project_data/data_asset/CustTrans-0.2.zip"
   ]
  },
  {
   "cell_type": "markdown",
   "metadata": {},
   "source": [
    "### 3.2 Next, we install the sklearn-pandas library"
   ]
  },
  {
   "cell_type": "code",
   "execution_count": 10,
   "metadata": {},
   "outputs": [
    {
     "name": "stdout",
     "output_type": "stream",
     "text": [
      "Collecting sklearn-pandas\n",
      "  Downloading https://files.pythonhosted.org/packages/1f/48/4e1461d828baf41d609efaa720d20090ac6ec346b5daad3c88e243e2207e/sklearn_pandas-1.8.0-py2.py3-none-any.whl\n",
      "Requirement already satisfied: scikit-learn>=0.15.0 in /opt/conda/envs/Python-3.6/lib/python3.6/site-packages (from sklearn-pandas) (0.20.3)\n",
      "Requirement already satisfied: scipy>=0.14 in /opt/conda/envs/Python-3.6/lib/python3.6/site-packages (from sklearn-pandas) (1.2.0)\n",
      "Requirement already satisfied: numpy>=1.6.1 in /opt/conda/envs/Python-3.6/lib/python3.6/site-packages (from sklearn-pandas) (1.15.4)\n",
      "Requirement already satisfied: pandas>=0.11.0 in /opt/conda/envs/Python-3.6/lib/python3.6/site-packages (from sklearn-pandas) (0.24.1)\n",
      "Requirement already satisfied: pytz>=2011k in /opt/conda/envs/Python-3.6/lib/python3.6/site-packages (from pandas>=0.11.0->sklearn-pandas) (2018.9)\n",
      "Requirement already satisfied: python-dateutil>=2.5.0 in /opt/conda/envs/Python-3.6/lib/python3.6/site-packages (from pandas>=0.11.0->sklearn-pandas) (2.7.5)\n",
      "Requirement already satisfied: six>=1.5 in /opt/conda/envs/Python-3.6/lib/python3.6/site-packages (from python-dateutil>=2.5.0->pandas>=0.11.0->sklearn-pandas) (1.12.0)\n",
      "Installing collected packages: sklearn-pandas\n",
      "Successfully installed sklearn-pandas-1.8.0\n"
     ]
    }
   ],
   "source": [
    "!pip install sklearn-pandas"
   ]
  },
  {
   "cell_type": "markdown",
   "metadata": {},
   "source": [
    "## 4.0 Build the model"
   ]
  },
  {
   "cell_type": "markdown",
   "metadata": {},
   "source": [
    "### 4.1 Now, let us create the custom pipeline transformer which essentially is our model."
   ]
  },
  {
   "cell_type": "code",
   "execution_count": 11,
   "metadata": {},
   "outputs": [],
   "source": [
    "from CustomTransformer.CustTrans import TypeSelector,StringIndexer,ConvToCategorical"
   ]
  },
  {
   "cell_type": "code",
   "execution_count": 12,
   "metadata": {},
   "outputs": [],
   "source": [
    "import pandas as pd\n",
    "import numpy as np\n",
    "from sklearn.pipeline import Pipeline, FeatureUnion\n",
    "from sklearn.preprocessing import OneHotEncoder, StandardScaler\n",
    "from sklearn.ensemble import RandomForestClassifier\n",
    "from sklearn_pandas import DataFrameMapper\n",
    "\n",
    "\n",
    "transformer = Pipeline([\n",
    "   ('features', FeatureUnion(n_jobs=1, transformer_list=[\n",
    "       # Part 1\n",
    "       ('boolean', Pipeline([\n",
    "           ('selector', TypeSelector('bool')),\n",
    "       ])),  # booleans close\n",
    "\n",
    "       ('numericals', Pipeline([\n",
    "           ('selector', TypeSelector(np.number)),\n",
    "           ('scaler', StandardScaler()),\n",
    "       ])),\n",
    "       # Part 2\n",
    "       ('categoricals', Pipeline([\n",
    "           ('convertor', ConvToCategorical()),\n",
    "           ('selector', TypeSelector('category')),\n",
    "           ('labeler', StringIndexer()),\n",
    "           ('encoder', OneHotEncoder(handle_unknown='ignore')),\n",
    "       ]))\n",
    "       # categoricals close\n",
    "   ])),  # features close\n",
    "   ('clf' , RandomForestClassifier(n_estimators=30,criterion=\"entropy\")),\n",
    "    \n",
    "])"
   ]
  },
  {
   "cell_type": "markdown",
   "metadata": {},
   "source": [
    "### 4.2 Let's now pass the input data through the transformer(fit), also known as training model."
   ]
  },
  {
   "cell_type": "code",
   "execution_count": 13,
   "metadata": {},
   "outputs": [
    {
     "name": "stderr",
     "output_type": "stream",
     "text": [
      "/opt/conda/envs/Python-3.6/lib/python3.6/site-packages/sklearn/preprocessing/data.py:645: DataConversionWarning: Data with input dtype int64, float64 were all converted to float64 by StandardScaler.\n",
      "  return self.partial_fit(X, y)\n",
      "/opt/conda/envs/Python-3.6/lib/python3.6/site-packages/sklearn/base.py:467: DataConversionWarning: Data with input dtype int64, float64 were all converted to float64 by StandardScaler.\n",
      "  return self.fit(X, y, **fit_params).transform(X)\n"
     ]
    },
    {
     "name": "stdout",
     "output_type": "stream",
     "text": [
      "Time for model training 104.29557862994261\n"
     ]
    }
   ],
   "source": [
    "import timeit\n",
    "start_time = timeit.default_timer()\n",
    "transformer.fit(X_train, y_train)\n",
    "print(\"Time for model training\",timeit.default_timer() - start_time)"
   ]
  },
  {
   "cell_type": "markdown",
   "metadata": {},
   "source": [
    "### 4.3 Once training is complete, we can evaluate the accuracy of the model using the hold-out test data."
   ]
  },
  {
   "cell_type": "code",
   "execution_count": 14,
   "metadata": {},
   "outputs": [
    {
     "name": "stderr",
     "output_type": "stream",
     "text": [
      "/opt/conda/envs/Python-3.6/lib/python3.6/site-packages/sklearn/pipeline.py:451: DataConversionWarning: Data with input dtype int64, float64 were all converted to float64 by StandardScaler.\n",
      "  Xt = transform.transform(Xt)\n"
     ]
    },
    {
     "data": {
      "text/plain": [
       "0.8874226804123712"
      ]
     },
     "execution_count": 14,
     "metadata": {},
     "output_type": "execute_result"
    }
   ],
   "source": [
    "scores= transformer.predict(X_test)\n",
    "from sklearn.metrics import accuracy_score\n",
    "accuracy = accuracy_score(y_test, scores)\n",
    "accuracy"
   ]
  },
  {
   "cell_type": "markdown",
   "metadata": {},
   "source": [
    "## 5.0 Save and deploy the model to WML"
   ]
  },
  {
   "cell_type": "markdown",
   "metadata": {},
   "source": [
    "### 5.1 Create a WML API client."
   ]
  },
  {
   "cell_type": "code",
   "execution_count": 15,
   "metadata": {},
   "outputs": [],
   "source": [
    "from watson_machine_learning_client import WatsonMachineLearningAPIClient"
   ]
  },
  {
   "cell_type": "markdown",
   "metadata": {},
   "source": [
    "### Add in the credentials as per your IBM Cloud Pak for Data cluster.\n",
    "\n",
    "Replace the username and password values of `*****` with your IBM Cloud Pak for Data username and password. The value for url should match the url for your IBM Cloud Pak for Data cluster."
   ]
  },
  {
   "cell_type": "code",
   "execution_count": 16,
   "metadata": {},
   "outputs": [],
   "source": [
    "wml_credentials = {\n",
    "                    \"url\": \"https://zen-cpd-zen.apps.marksturpak4.ibmcodetest.us\",\n",
    "                    \"username\": \"*****\",\n",
    "                    \"password\": \"*****\",\n",
    "                    \"instance_id\": \"wml_local\",\n",
    "                    \"version\" : \"2.5.0\"\n",
    " }"
   ]
  },
  {
   "cell_type": "code",
   "execution_count": 17,
   "metadata": {},
   "outputs": [],
   "source": [
    "client = WatsonMachineLearningAPIClient(wml_credentials)"
   ]
  },
  {
   "cell_type": "markdown",
   "metadata": {},
   "source": [
    "### Use the following cell to perform any clean up of previously created models, deployments and spaces."
   ]
  },
  {
   "cell_type": "code",
   "execution_count": 18,
   "metadata": {},
   "outputs": [],
   "source": [
    "# see if any spaces already exist\n",
    "# client.spaces.list()\n",
    "\n",
    "# set the default space before moving ahead\n",
    "# client.set.default_space('<GUID of the space>')\n",
    "\n",
    "# see if any stored models exist\n",
    "# client.repository.list_models()\n",
    "# client.repository.delete('<GUID of model to delete>')\n",
    "\n",
    "# see if any deployments exist\n",
    "# client.deployments.list()\n",
    "# client.deployments.delete('<GUID of deployment to delete>')\n",
    "\n",
    "# once the deployments and models are deleted, the space can be deleted\n",
    "# client.spaces.delete('<GUID of the space>')"
   ]
  },
  {
   "cell_type": "markdown",
   "metadata": {},
   "source": [
    "### Create a deployment space and set it as the default space to be used for deployments. If you would rather use an existing space (that was previously created), skip the code in the cell below and directly use the next cell to set the default space."
   ]
  },
  {
   "cell_type": "code",
   "execution_count": 19,
   "metadata": {},
   "outputs": [
    {
     "name": "stdout",
     "output_type": "stream",
     "text": [
      "f7cc0abc-ad9d-4d83-82fa-8dfbec7f2f60\n"
     ]
    }
   ],
   "source": [
    "# Use this code to create a new deployment space.\n",
    "space_details = client.spaces.store(meta_props={client.spaces.ConfigurationMetaNames.NAME: \"ReturnPropensity_Space\"})\n",
    "space_id = client.spaces.get_uid(space_details)\n",
    "print(space_id)"
   ]
  },
  {
   "cell_type": "code",
   "execution_count": 20,
   "metadata": {},
   "outputs": [
    {
     "name": "stdout",
     "output_type": "stream",
     "text": [
      "----  ----  -----  -------  -------------\n",
      "GUID  NAME  STATE  CREATED  ARTIFACT_TYPE\n",
      "----  ----  -----  -------  -------------\n",
      "None\n"
     ]
    }
   ],
   "source": [
    "# Set default space - if you have a previously created space that you'd like to use, \n",
    "# use that space's id instead of `space_id`. For eg. client.set.default_space('<GUID of the space>')\n",
    "client.set.default_space(space_id)\n",
    "print(client.deployments.list())"
   ]
  },
  {
   "cell_type": "markdown",
   "metadata": {},
   "source": [
    "### 5.2 Before we deploy the model, let's create a custom python runtime with our custom transformer library installed."
   ]
  },
  {
   "cell_type": "code",
   "execution_count": 21,
   "metadata": {},
   "outputs": [
    {
     "name": "stdout",
     "output_type": "stream",
     "text": [
      "Custom Library UID: 0bff1d2c-4089-4ee1-ba6c-c82fbbb95714\n"
     ]
    }
   ],
   "source": [
    "lib_meta = {\n",
    "        client.runtimes.LibraryMetaNames.NAME: \"CustomTransformers_v0.1\",\n",
    "        client.runtimes.LibraryMetaNames.DESCRIPTION: \"CustomTransformers_v0.1\",\n",
    "        client.runtimes.LibraryMetaNames.FILEPATH: \"/project_data/data_asset/CustTrans-0.2.zip\",\n",
    "        client.runtimes.LibraryMetaNames.VERSION: \"1.0\",\n",
    "        client.runtimes.LibraryMetaNames.PLATFORM: {\"name\": \"python\", \"versions\": [\"3.6\"]}\n",
    "    }\n",
    "custom_library_details = client.runtimes.store_library(lib_meta)\n",
    "custom_library_uid = client.runtimes.get_library_uid(custom_library_details)\n",
    "print(\"Custom Library UID: \" + custom_library_uid)"
   ]
  },
  {
   "cell_type": "code",
   "execution_count": 22,
   "metadata": {},
   "outputs": [],
   "source": [
    "runtimes_meta = {\n",
    "    client.runtimes.ConfigurationMetaNames.NAME: \"CustomTransformers_v0.1\", \n",
    "    client.runtimes.ConfigurationMetaNames.DESCRIPTION: \"CustomTransformers_v0.1\", \n",
    "    client.runtimes.ConfigurationMetaNames.PLATFORM: { \"name\": \"python\", \"version\": \"3.6\" }, \n",
    "    client.runtimes.ConfigurationMetaNames.LIBRARIES_UIDS: [custom_library_uid]\n",
    "}"
   ]
  },
  {
   "cell_type": "code",
   "execution_count": 23,
   "metadata": {},
   "outputs": [
    {
     "data": {
      "text/plain": [
       "{'metadata': {'id': '6e06aecf-37d4-4d34-bdcf-9edb2e017170',\n",
       "  'guid': '6e06aecf-37d4-4d34-bdcf-9edb2e017170',\n",
       "  'href': '/v4/runtimes/6e06aecf-37d4-4d34-bdcf-9edb2e017170',\n",
       "  'created_at': '2020-02-18T16:24:12.035Z'},\n",
       " 'entity': {'services': ['Training', 'Scoring'],\n",
       "  'name': 'CustomTransformers_v0.1',\n",
       "  'description': 'CustomTransformers_v0.1',\n",
       "  'custom_libraries': [{'href': '/v4/libraries/0bff1d2c-4089-4ee1-ba6c-c82fbbb95714'}],\n",
       "  'space': {'href': '/v4/spaces/f7cc0abc-ad9d-4d83-82fa-8dfbec7f2f60'},\n",
       "  'system_defined': False,\n",
       "  'platform': {'name': 'python', 'version': '3.6'}}}"
      ]
     },
     "execution_count": 23,
     "metadata": {},
     "output_type": "execute_result"
    }
   ],
   "source": [
    "runtime_details = client.runtimes.store(runtimes_meta)\n",
    "runtime_details"
   ]
  },
  {
   "cell_type": "code",
   "execution_count": 24,
   "metadata": {},
   "outputs": [
    {
     "name": "stdout",
     "output_type": "stream",
     "text": [
      "Runtime UID: 6e06aecf-37d4-4d34-bdcf-9edb2e017170\n"
     ]
    }
   ],
   "source": [
    "runtime_uid = client.runtimes.get_uid(runtime_details)\n",
    "print(\"Runtime UID: \" + runtime_uid)"
   ]
  },
  {
   "cell_type": "markdown",
   "metadata": {},
   "source": [
    "### 5.3 Now, let us store our model."
   ]
  },
  {
   "cell_type": "code",
   "execution_count": 25,
   "metadata": {},
   "outputs": [],
   "source": [
    "model_props = {client.repository.ModelMetaNames.NAME: \"ReturnRiskPandas_v0.1\",\n",
    "               client.repository.ModelMetaNames.RUNTIME_UID: runtime_uid,\n",
    "               client.repository.ModelMetaNames.TYPE: \"scikit-learn_0.20\"\n",
    "              }"
   ]
  },
  {
   "cell_type": "code",
   "execution_count": 26,
   "metadata": {},
   "outputs": [],
   "source": [
    "published_model = client.repository.store_model(model=transformer, meta_props=model_props,training_data=X_train, training_target=y_train)\n",
    "published_model_uid = client.repository.get_model_uid(published_model)\n",
    "model_details = client.repository.get_details(published_model_uid)"
   ]
  },
  {
   "cell_type": "code",
   "execution_count": 27,
   "metadata": {},
   "outputs": [
    {
     "name": "stdout",
     "output_type": "stream",
     "text": [
      "{\n",
      "  \"metadata\": {\n",
      "    \"guid\": \"1b54c596-0578-4264-afb9-fdcc4b5a6c27\",\n",
      "    \"id\": \"1b54c596-0578-4264-afb9-fdcc4b5a6c27\",\n",
      "    \"modified_at\": \"2020-02-18T16:25:11.002Z\",\n",
      "    \"created_at\": \"2020-02-18T16:24:13.002Z\",\n",
      "    \"owner\": \"1000330999\",\n",
      "    \"href\": \"/v4/models/1b54c596-0578-4264-afb9-fdcc4b5a6c27?space_id=f7cc0abc-ad9d-4d83-82fa-8dfbec7f2f60\"\n",
      "  },\n",
      "  \"entity\": {\n",
      "    \"name\": \"ReturnRiskPandas_v0.1\",\n",
      "    \"training_data_references\": [\n",
      "      {\n",
      "        \"location\": {\n",
      "          \"bucket\": \"not_applicable\"\n",
      "        },\n",
      "        \"type\": \"fs\",\n",
      "        \"connection\": {\n",
      "          \"access_key_id\": \"not_applicable\",\n",
      "          \"secret_access_key\": \"not_applicable\",\n",
      "          \"endpoint_url\": \"not_applicable\"\n",
      "        },\n",
      "        \"schema\": {\n",
      "          \"id\": \"1\",\n",
      "          \"type\": \"DataFrame\",\n",
      "          \"fields\": [\n",
      "            {\n",
      "              \"name\": \"BASKET_SIZE\",\n",
      "              \"type\": \"int64\"\n",
      "            },\n",
      "            {\n",
      "              \"name\": \"EXTN_COMPOSITION\",\n",
      "              \"type\": \"category\"\n",
      "            },\n",
      "            {\n",
      "              \"name\": \"CARRIER_SERVICE_CODE_OL\",\n",
      "              \"type\": \"category\"\n",
      "            },\n",
      "            {\n",
      "              \"name\": \"CATEGORY\",\n",
      "              \"type\": \"category\"\n",
      "            },\n",
      "            {\n",
      "              \"name\": \"COUNTRY_OF_ORIGIN_OI\",\n",
      "              \"type\": \"category\"\n",
      "            },\n",
      "            {\n",
      "              \"name\": \"DAY_OF_MONTH\",\n",
      "              \"type\": \"int64\"\n",
      "            },\n",
      "            {\n",
      "              \"name\": \"DAY_OF_WEEK\",\n",
      "              \"type\": \"category\"\n",
      "            },\n",
      "            {\n",
      "              \"name\": \"DAY_OF_YEAR\",\n",
      "              \"type\": \"int64\"\n",
      "            },\n",
      "            {\n",
      "              \"name\": \"EXTN_BRAND\",\n",
      "              \"type\": \"category\"\n",
      "            },\n",
      "            {\n",
      "              \"name\": \"EXTN_DISCOUNT_ID\",\n",
      "              \"type\": \"category\"\n",
      "            },\n",
      "            {\n",
      "              \"name\": \"EXTN_IS_GIFT\",\n",
      "              \"type\": \"category\"\n",
      "            },\n",
      "            {\n",
      "              \"name\": \"EXTN_IS_PREORDER\",\n",
      "              \"type\": \"category\"\n",
      "            },\n",
      "            {\n",
      "              \"name\": \"EXTN_SHIP_TO_CITY\",\n",
      "              \"type\": \"category\"\n",
      "            },\n",
      "            {\n",
      "              \"name\": \"EXTN_SHIP_TO_COUNTRY\",\n",
      "              \"type\": \"category\"\n",
      "            },\n",
      "            {\n",
      "              \"name\": \"EXTN_SEASON\",\n",
      "              \"type\": \"category\"\n",
      "            },\n",
      "            {\n",
      "              \"name\": \"LIST_PRICE\",\n",
      "              \"type\": \"int64\"\n",
      "            },\n",
      "            {\n",
      "              \"name\": \"MONTH_OF_YEAR\",\n",
      "              \"type\": \"int64\"\n",
      "            },\n",
      "            {\n",
      "              \"name\": \"OTHER_CHARGES\",\n",
      "              \"type\": \"float64\"\n",
      "            },\n",
      "            {\n",
      "              \"name\": \"OTHER_CHARGES_OL\",\n",
      "              \"type\": \"float64\"\n",
      "            },\n",
      "            {\n",
      "              \"name\": \"REQ_DELIVERY_DATE\",\n",
      "              \"type\": \"int64\"\n",
      "            },\n",
      "            {\n",
      "              \"name\": \"TOTAL_AMOUNT_USD\",\n",
      "              \"type\": \"float64\"\n",
      "            },\n",
      "            {\n",
      "              \"name\": \"WEEKEND\",\n",
      "              \"type\": \"int64\"\n",
      "            },\n",
      "            {\n",
      "              \"name\": \"ZIP_CODE\",\n",
      "              \"type\": \"category\"\n",
      "            },\n",
      "            {\n",
      "              \"name\": \"MTS_CTS\",\n",
      "              \"type\": \"int64\"\n",
      "            },\n",
      "            {\n",
      "              \"name\": \"HOUR_OF_DAY\",\n",
      "              \"type\": \"int64\"\n",
      "            },\n",
      "            {\n",
      "              \"name\": \"LOCKID\",\n",
      "              \"type\": \"int64\"\n",
      "            }\n",
      "          ]\n",
      "        }\n",
      "      }\n",
      "    ],\n",
      "    \"label_column\": \"RETURN_FLAG\",\n",
      "    \"content_status\": {\n",
      "      \"state\": \"persisted\"\n",
      "    },\n",
      "    \"space\": {\n",
      "      \"href\": \"/v4/spaces/f7cc0abc-ad9d-4d83-82fa-8dfbec7f2f60\"\n",
      "    },\n",
      "    \"type\": \"scikit-learn_0.20\",\n",
      "    \"runtime\": {\n",
      "      \"href\": \"/v4/runtimes/6e06aecf-37d4-4d34-bdcf-9edb2e017170\"\n",
      "    }\n",
      "  }\n",
      "}\n"
     ]
    }
   ],
   "source": [
    "import json\n",
    "print(json.dumps(model_details, indent=2))"
   ]
  },
  {
   "cell_type": "markdown",
   "metadata": {},
   "source": [
    "### 5.4 Finally, let's deploy the model."
   ]
  },
  {
   "cell_type": "code",
   "execution_count": 28,
   "metadata": {},
   "outputs": [],
   "source": [
    "metaProps = {\n",
    "client.deployments.ConfigurationMetaNames.NAME: \"ReturnRiskPandas_CustomTransformers_v0.2\",\n",
    "client.deployments.ConfigurationMetaNames.ONLINE: {}\n",
    "}"
   ]
  },
  {
   "cell_type": "code",
   "execution_count": 29,
   "metadata": {},
   "outputs": [
    {
     "name": "stdout",
     "output_type": "stream",
     "text": [
      "\n",
      "\n",
      "#######################################################################################\n",
      "\n",
      "Synchronous deployment creation for uid: '1b54c596-0578-4264-afb9-fdcc4b5a6c27' started\n",
      "\n",
      "#######################################################################################\n",
      "\n",
      "\n",
      "initializing........\n",
      "ready\n",
      "\n",
      "\n",
      "------------------------------------------------------------------------------------------------\n",
      "Successfully finished deployment creation, deployment_uid='f0675444-1ed4-4f54-935c-29e27cb816f7'\n",
      "------------------------------------------------------------------------------------------------\n",
      "\n",
      "\n"
     ]
    }
   ],
   "source": [
    "created_deployment = client.deployments.create(published_model_uid, metaProps)"
   ]
  },
  {
   "cell_type": "markdown",
   "metadata": {},
   "source": [
    "## 6.0 Test the model"
   ]
  },
  {
   "cell_type": "markdown",
   "metadata": {},
   "source": [
    "### 6.1 Obtain the deployment_id and deployment_href for the model.\n",
    "\n",
    "The deployment_id is required to score the model using the client.deployments.score() methos in the WML API Client.\n",
    "The deployment_href can be used to generate the URL to be used to score the model via a cURL command. The scoring_url can be generated as `\"<URL for your IBM Cloud Pak for Data cluster>\" + <deployment_href>`"
   ]
  },
  {
   "cell_type": "code",
   "execution_count": 30,
   "metadata": {},
   "outputs": [
    {
     "name": "stdout",
     "output_type": "stream",
     "text": [
      "/v4/deployments/f0675444-1ed4-4f54-935c-29e27cb816f7\n",
      "f0675444-1ed4-4f54-935c-29e27cb816f7\n"
     ]
    }
   ],
   "source": [
    "deployment_href = client.deployments.get_href(created_deployment)\n",
    "print(deployment_href)\n",
    "deployment_id = client.deployments.get_uid(created_deployment)\n",
    "print(deployment_id)"
   ]
  },
  {
   "cell_type": "markdown",
   "metadata": {},
   "source": [
    "### 6.2 Score the model using a sample payload."
   ]
  },
  {
   "cell_type": "code",
   "execution_count": 31,
   "metadata": {},
   "outputs": [],
   "source": [
    "scoring_payload={client.deployments.ScoringMetaNames.INPUT_DATA: [{\"fields\":[\"BASKET_SIZE\",\"EXTN_COMPOSITION\",\"CARRIER_SERVICE_CODE_OL\",\"CATEGORY\",\"COUNTRY_OF_ORIGIN_OI\",\"DAY_OF_MONTH\",\"DAY_OF_WEEK\",\"DAY_OF_YEAR\",\"EXTN_BRAND\",\"EXTN_DISCOUNT_ID\",\"EXTN_IS_GIFT\",\"EXTN_IS_PREORDER\",\"EXTN_SHIP_TO_CITY\",\"EXTN_SHIP_TO_COUNTRY\",\"EXTN_SEASON\",\"LIST_PRICE\",\"MONTH_OF_YEAR\",\"OTHER_CHARGES\",\"OTHER_CHARGES_OL\",\"REQ_DELIVERY_DATE\",\"TOTAL_AMOUNT_USD\",\"WEEKEND\",\"ZIP_CODE\",\"MTS_CTS\",\"HOUR_OF_DAY\",\"LOCKID\"],\"values\":[[3, '91% Nylon, 9% Elastercell', 'STANDARD', 'Bikini', 'US', 18, 'Saturday', 322, 'XYZAI', 'None', 'N', 'N', 'Los Angeles', 'US', 'FW17', 75, 11, 0.0, 0.0, 0, 165.35, 1, 'Zipcode_401', 24, 19, 277]]}]}"
   ]
  },
  {
   "cell_type": "code",
   "execution_count": 32,
   "metadata": {},
   "outputs": [],
   "source": [
    "prediction = client.deployments.score(deployment_id, scoring_payload)"
   ]
  },
  {
   "cell_type": "code",
   "execution_count": 33,
   "metadata": {},
   "outputs": [
    {
     "data": {
      "text/plain": [
       "{'predictions': [{'fields': ['prediction', 'probability'],\n",
       "   'values': [[0, [0.6666666666666666, 0.3333333333333333]]]}]}"
      ]
     },
     "execution_count": 33,
     "metadata": {},
     "output_type": "execute_result"
    }
   ],
   "source": [
    "prediction"
   ]
  },
  {
   "cell_type": "markdown",
   "metadata": {},
   "source": [
    "### The first field - prediction - indicates the model's prediction of whether the items indicated by the sample payload will be returned (value of 0) or not (value of 1). The second field - probability - has 2 numeric values. The first corresponds to the probability of a prediction value of 0 and the second corresponds to the probability of the prediction value of 1."
   ]
  }
 ],
 "metadata": {
  "kernelspec": {
   "display_name": "Python 3.6",
   "language": "python",
   "name": "python3"
  },
  "language_info": {
   "codemirror_mode": {
    "name": "ipython",
    "version": 3
   },
   "file_extension": ".py",
   "mimetype": "text/x-python",
   "name": "python",
   "nbconvert_exporter": "python",
   "pygments_lexer": "ipython3",
   "version": "3.6.8"
  }
 },
 "nbformat": 4,
 "nbformat_minor": 2
}
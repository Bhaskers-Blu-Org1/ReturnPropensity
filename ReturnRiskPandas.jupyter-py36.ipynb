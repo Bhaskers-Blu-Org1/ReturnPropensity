{
 "cells": [
  {
   "cell_type": "code",
   "execution_count": 1,
   "metadata": {},
   "outputs": [
    {
     "data": {
      "text/html": [
       "<div>\n",
       "<style scoped>\n",
       "    .dataframe tbody tr th:only-of-type {\n",
       "        vertical-align: middle;\n",
       "    }\n",
       "\n",
       "    .dataframe tbody tr th {\n",
       "        vertical-align: top;\n",
       "    }\n",
       "\n",
       "    .dataframe thead th {\n",
       "        text-align: right;\n",
       "    }\n",
       "</style>\n",
       "<table border=\"1\" class=\"dataframe\">\n",
       "  <thead>\n",
       "    <tr style=\"text-align: right;\">\n",
       "      <th></th>\n",
       "      <th>BASKET_SIZE</th>\n",
       "      <th>EXTN_COMPOSITION</th>\n",
       "      <th>CARRIER_SERVICE_CODE_OL</th>\n",
       "      <th>CATEGORY</th>\n",
       "      <th>COUNTRY_OF_ORIGIN_OI</th>\n",
       "      <th>DAY_OF_MONTH</th>\n",
       "      <th>DAY_OF_WEEK</th>\n",
       "      <th>DAY_OF_YEAR</th>\n",
       "      <th>EXTN_BRAND</th>\n",
       "      <th>EXTN_DISCOUNT_ID</th>\n",
       "      <th>...</th>\n",
       "      <th>OTHER_CHARGES</th>\n",
       "      <th>OTHER_CHARGES_OL</th>\n",
       "      <th>REQ_DELIVERY_DATE</th>\n",
       "      <th>TOTAL_AMOUNT_USD</th>\n",
       "      <th>WEEKEND</th>\n",
       "      <th>ZIP_CODE</th>\n",
       "      <th>MTS_CTS</th>\n",
       "      <th>HOUR_OF_DAY</th>\n",
       "      <th>LOCKID</th>\n",
       "      <th>RETURN_FLAG</th>\n",
       "    </tr>\n",
       "  </thead>\n",
       "  <tbody>\n",
       "    <tr>\n",
       "      <th>0</th>\n",
       "      <td>1</td>\n",
       "      <td>NaN</td>\n",
       "      <td>STANDARD</td>\n",
       "      <td>Slip</td>\n",
       "      <td>CN</td>\n",
       "      <td>14</td>\n",
       "      <td>Saturday</td>\n",
       "      <td>287</td>\n",
       "      <td>XYZAA</td>\n",
       "      <td>None</td>\n",
       "      <td>...</td>\n",
       "      <td>0.0</td>\n",
       "      <td>0.0</td>\n",
       "      <td>0</td>\n",
       "      <td>0.000000</td>\n",
       "      <td>1</td>\n",
       "      <td>Zipcode_261</td>\n",
       "      <td>1</td>\n",
       "      <td>16</td>\n",
       "      <td>26</td>\n",
       "      <td>0</td>\n",
       "    </tr>\n",
       "    <tr>\n",
       "      <th>1</th>\n",
       "      <td>1</td>\n",
       "      <td>NaN</td>\n",
       "      <td>STANDARD</td>\n",
       "      <td>Slip</td>\n",
       "      <td>CN</td>\n",
       "      <td>17</td>\n",
       "      <td>Tuesday</td>\n",
       "      <td>290</td>\n",
       "      <td>XYZAA</td>\n",
       "      <td>None</td>\n",
       "      <td>...</td>\n",
       "      <td>0.0</td>\n",
       "      <td>0.0</td>\n",
       "      <td>0</td>\n",
       "      <td>0.000000</td>\n",
       "      <td>0</td>\n",
       "      <td>Zipcode_165</td>\n",
       "      <td>2</td>\n",
       "      <td>16</td>\n",
       "      <td>36</td>\n",
       "      <td>0</td>\n",
       "    </tr>\n",
       "    <tr>\n",
       "      <th>2</th>\n",
       "      <td>1</td>\n",
       "      <td>85% Polyamide, 15% Elastane</td>\n",
       "      <td>PREMIER_EVENING</td>\n",
       "      <td>Slip</td>\n",
       "      <td>CN</td>\n",
       "      <td>19</td>\n",
       "      <td>Thursday</td>\n",
       "      <td>292</td>\n",
       "      <td>XYZAA</td>\n",
       "      <td>None</td>\n",
       "      <td>...</td>\n",
       "      <td>25.0</td>\n",
       "      <td>0.0</td>\n",
       "      <td>0</td>\n",
       "      <td>40.000000</td>\n",
       "      <td>0</td>\n",
       "      <td>Zipcode_599</td>\n",
       "      <td>11</td>\n",
       "      <td>17</td>\n",
       "      <td>215</td>\n",
       "      <td>1</td>\n",
       "    </tr>\n",
       "    <tr>\n",
       "      <th>3</th>\n",
       "      <td>1</td>\n",
       "      <td>54% Polyamide, 46% Polyester</td>\n",
       "      <td>STANDARD</td>\n",
       "      <td>Slip</td>\n",
       "      <td>CN</td>\n",
       "      <td>24</td>\n",
       "      <td>Tuesday</td>\n",
       "      <td>297</td>\n",
       "      <td>XYZAA</td>\n",
       "      <td>None</td>\n",
       "      <td>...</td>\n",
       "      <td>0.0</td>\n",
       "      <td>0.0</td>\n",
       "      <td>0</td>\n",
       "      <td>0.000000</td>\n",
       "      <td>0</td>\n",
       "      <td>Zipcode_261</td>\n",
       "      <td>1</td>\n",
       "      <td>15</td>\n",
       "      <td>25</td>\n",
       "      <td>0</td>\n",
       "    </tr>\n",
       "    <tr>\n",
       "      <th>4</th>\n",
       "      <td>2</td>\n",
       "      <td>93% Cotton, 7% Elastane</td>\n",
       "      <td>STANDARD</td>\n",
       "      <td>Maniche Lunghe</td>\n",
       "      <td>PT</td>\n",
       "      <td>30</td>\n",
       "      <td>Monday</td>\n",
       "      <td>303</td>\n",
       "      <td>XYZAB</td>\n",
       "      <td>None</td>\n",
       "      <td>...</td>\n",
       "      <td>13.0</td>\n",
       "      <td>0.0</td>\n",
       "      <td>0</td>\n",
       "      <td>251.192578</td>\n",
       "      <td>0</td>\n",
       "      <td>Zipcode_228</td>\n",
       "      <td>12</td>\n",
       "      <td>13</td>\n",
       "      <td>179</td>\n",
       "      <td>0</td>\n",
       "    </tr>\n",
       "  </tbody>\n",
       "</table>\n",
       "<p>5 rows × 27 columns</p>\n",
       "</div>"
      ],
      "text/plain": [
       "   BASKET_SIZE              EXTN_COMPOSITION CARRIER_SERVICE_CODE_OL  \\\n",
       "0            1                           NaN                STANDARD   \n",
       "1            1                           NaN                STANDARD   \n",
       "2            1   85% Polyamide, 15% Elastane         PREMIER_EVENING   \n",
       "3            1  54% Polyamide, 46% Polyester                STANDARD   \n",
       "4            2       93% Cotton, 7% Elastane                STANDARD   \n",
       "\n",
       "         CATEGORY COUNTRY_OF_ORIGIN_OI  DAY_OF_MONTH DAY_OF_WEEK  DAY_OF_YEAR  \\\n",
       "0            Slip                   CN            14    Saturday          287   \n",
       "1            Slip                   CN            17     Tuesday          290   \n",
       "2            Slip                   CN            19    Thursday          292   \n",
       "3            Slip                   CN            24     Tuesday          297   \n",
       "4  Maniche Lunghe                   PT            30      Monday          303   \n",
       "\n",
       "  EXTN_BRAND EXTN_DISCOUNT_ID  ... OTHER_CHARGES OTHER_CHARGES_OL  \\\n",
       "0      XYZAA             None  ...           0.0              0.0   \n",
       "1      XYZAA             None  ...           0.0              0.0   \n",
       "2      XYZAA             None  ...          25.0              0.0   \n",
       "3      XYZAA             None  ...           0.0              0.0   \n",
       "4      XYZAB             None  ...          13.0              0.0   \n",
       "\n",
       "  REQ_DELIVERY_DATE TOTAL_AMOUNT_USD WEEKEND     ZIP_CODE  MTS_CTS  \\\n",
       "0                 0         0.000000       1  Zipcode_261        1   \n",
       "1                 0         0.000000       0  Zipcode_165        2   \n",
       "2                 0        40.000000       0  Zipcode_599       11   \n",
       "3                 0         0.000000       0  Zipcode_261        1   \n",
       "4                 0       251.192578       0  Zipcode_228       12   \n",
       "\n",
       "   HOUR_OF_DAY  LOCKID  RETURN_FLAG  \n",
       "0           16      26            0  \n",
       "1           16      36            0  \n",
       "2           17     215            1  \n",
       "3           15      25            0  \n",
       "4           13     179            0  \n",
       "\n",
       "[5 rows x 27 columns]"
      ]
     },
     "execution_count": 1,
     "metadata": {},
     "output_type": "execute_result"
    }
   ],
   "source": [
    "import os, pandas as pd\n",
    "# Add asset from file system\n",
    "df = pd.read_csv(os.environ['DSX_PROJECT_DIR']+'/datasets/TON_PREV_NEW.csv')\n",
    "df.head()"
   ]
  },
  {
   "cell_type": "markdown",
   "metadata": {},
   "source": [
    "## Lets fill all NA(s) and empty values with 0"
   ]
  },
  {
   "cell_type": "code",
   "execution_count": 2,
   "metadata": {},
   "outputs": [],
   "source": [
    "df=df.fillna(0)"
   ]
  },
  {
   "cell_type": "code",
   "execution_count": 3,
   "metadata": {},
   "outputs": [
    {
     "data": {
      "text/plain": [
       "BASKET_SIZE                  int64\n",
       "EXTN_COMPOSITION            object\n",
       "CARRIER_SERVICE_CODE_OL     object\n",
       "CATEGORY                    object\n",
       "COUNTRY_OF_ORIGIN_OI        object\n",
       "DAY_OF_MONTH                 int64\n",
       "DAY_OF_WEEK                 object\n",
       "DAY_OF_YEAR                  int64\n",
       "EXTN_BRAND                  object\n",
       "EXTN_DISCOUNT_ID            object\n",
       "EXTN_IS_GIFT                object\n",
       "EXTN_IS_PREORDER            object\n",
       "EXTN_SHIP_TO_CITY           object\n",
       "EXTN_SHIP_TO_COUNTRY        object\n",
       "EXTN_SEASON                 object\n",
       "LIST_PRICE                   int64\n",
       "MONTH_OF_YEAR                int64\n",
       "OTHER_CHARGES              float64\n",
       "OTHER_CHARGES_OL           float64\n",
       "REQ_DELIVERY_DATE            int64\n",
       "TOTAL_AMOUNT_USD           float64\n",
       "WEEKEND                      int64\n",
       "ZIP_CODE                    object\n",
       "MTS_CTS                      int64\n",
       "HOUR_OF_DAY                  int64\n",
       "LOCKID                       int64\n",
       "RETURN_FLAG                  int64\n",
       "dtype: object"
      ]
     },
     "execution_count": 3,
     "metadata": {},
     "output_type": "execute_result"
    }
   ],
   "source": [
    "df.dtypes"
   ]
  },
  {
   "cell_type": "markdown",
   "metadata": {},
   "source": [
    "## We can see that we have object columns which need to be converted to category codes to be fed into the model"
   ]
  },
  {
   "cell_type": "code",
   "execution_count": 4,
   "metadata": {},
   "outputs": [
    {
     "name": "stdout",
     "output_type": "stream",
     "text": [
      "['EXTN_COMPOSITION', 'CARRIER_SERVICE_CODE_OL', 'CATEGORY', 'COUNTRY_OF_ORIGIN_OI', 'DAY_OF_WEEK', 'EXTN_BRAND', 'EXTN_DISCOUNT_ID', 'EXTN_IS_GIFT', 'EXTN_IS_PREORDER', 'EXTN_SHIP_TO_CITY', 'EXTN_SHIP_TO_COUNTRY', 'EXTN_SEASON', 'ZIP_CODE'] ['BASKET_SIZE', 'DAY_OF_MONTH', 'DAY_OF_YEAR', 'LIST_PRICE', 'MONTH_OF_YEAR', 'OTHER_CHARGES', 'OTHER_CHARGES_OL', 'REQ_DELIVERY_DATE', 'TOTAL_AMOUNT_USD', 'WEEKEND', 'MTS_CTS', 'HOUR_OF_DAY', 'LOCKID', 'RETURN_FLAG']\n"
     ]
    }
   ],
   "source": [
    "qual = list( df.loc[:,df.dtypes == 'object'].columns.values )\n",
    "for col in qual:\n",
    "     df[col] = df[col].astype('category')\n",
    "quant = list( df.loc[:,df.dtypes != 'category'].columns.values )\n",
    "print(qual,quant)"
   ]
  },
  {
   "cell_type": "code",
   "execution_count": 5,
   "metadata": {},
   "outputs": [],
   "source": [
    "cats = list( df.loc[:,df.dtypes == 'category'].columns.values)\n",
    "categories={}\n",
    "for col in cats:\n",
    "    categories[col]= dict(enumerate(df[col].cat.categories))"
   ]
  },
  {
   "cell_type": "code",
   "execution_count": 6,
   "metadata": {},
   "outputs": [
    {
     "data": {
      "text/plain": [
       "BASKET_SIZE                   int64\n",
       "EXTN_COMPOSITION           category\n",
       "CARRIER_SERVICE_CODE_OL    category\n",
       "CATEGORY                   category\n",
       "COUNTRY_OF_ORIGIN_OI       category\n",
       "DAY_OF_MONTH                  int64\n",
       "DAY_OF_WEEK                category\n",
       "DAY_OF_YEAR                   int64\n",
       "EXTN_BRAND                 category\n",
       "EXTN_DISCOUNT_ID           category\n",
       "EXTN_IS_GIFT               category\n",
       "EXTN_IS_PREORDER           category\n",
       "EXTN_SHIP_TO_CITY          category\n",
       "EXTN_SHIP_TO_COUNTRY       category\n",
       "EXTN_SEASON                category\n",
       "LIST_PRICE                    int64\n",
       "MONTH_OF_YEAR                 int64\n",
       "OTHER_CHARGES               float64\n",
       "OTHER_CHARGES_OL            float64\n",
       "REQ_DELIVERY_DATE             int64\n",
       "TOTAL_AMOUNT_USD            float64\n",
       "WEEKEND                       int64\n",
       "ZIP_CODE                   category\n",
       "MTS_CTS                       int64\n",
       "HOUR_OF_DAY                   int64\n",
       "LOCKID                        int64\n",
       "RETURN_FLAG                   int64\n",
       "dtype: object"
      ]
     },
     "execution_count": 6,
     "metadata": {},
     "output_type": "execute_result"
    }
   ],
   "source": [
    "df.dtypes"
   ]
  },
  {
   "cell_type": "code",
   "execution_count": 7,
   "metadata": {},
   "outputs": [
    {
     "data": {
      "text/plain": [
       "0    128487\n",
       "1     24287\n",
       "Name: RETURN_FLAG, dtype: int64"
      ]
     },
     "execution_count": 7,
     "metadata": {},
     "output_type": "execute_result"
    }
   ],
   "source": [
    "df[\"RETURN_FLAG\"].value_counts()"
   ]
  },
  {
   "cell_type": "markdown",
   "metadata": {},
   "source": [
    "## Here we can see that there are 24K orders that have been returned and 128K orders that havent been returned"
   ]
  },
  {
   "cell_type": "code",
   "execution_count": 8,
   "metadata": {},
   "outputs": [],
   "source": [
    "from sklearn.model_selection import train_test_split\n",
    "X=(df.drop([\"RETURN_FLAG\"], axis=1))\n",
    "y=df['RETURN_FLAG']\n",
    "X_train, X_test, y_train, y_test = train_test_split(X, y, test_size=1/3., random_state=42)"
   ]
  },
  {
   "cell_type": "markdown",
   "metadata": {},
   "source": [
    "##  Install Custom Modules for the Pipeline Transformations"
   ]
  },
  {
   "cell_type": "code",
   "execution_count": 9,
   "metadata": {},
   "outputs": [
    {
     "name": "stdout",
     "output_type": "stream",
     "text": [
      "Processing ./CustTrans-0.2.zip\n",
      "Requirement already satisfied, skipping upgrade: sklearn in /opt/conda3/lib/python3.6/site-packages (from CustTrans==0.1) (0.0)\n",
      "Requirement already satisfied, skipping upgrade: pandas in /opt/conda3/lib/python3.6/site-packages (from CustTrans==0.1) (0.25.2)\n",
      "Requirement already satisfied, skipping upgrade: scikit-learn in /opt/conda3/lib/python3.6/site-packages (from sklearn->CustTrans==0.1) (0.19.2)\n",
      "Requirement already satisfied, skipping upgrade: numpy>=1.13.3 in /opt/conda3/lib/python3.6/site-packages (from pandas->CustTrans==0.1) (1.17.2)\n",
      "Requirement already satisfied, skipping upgrade: pytz>=2017.2 in /opt/conda3/lib/python3.6/site-packages (from pandas->CustTrans==0.1) (2018.6)\n",
      "Requirement already satisfied, skipping upgrade: python-dateutil>=2.6.1 in /opt/conda3/lib/python3.6/site-packages (from pandas->CustTrans==0.1) (2.7.4)\n",
      "Requirement already satisfied, skipping upgrade: six>=1.5 in /opt/conda3/lib/python3.6/site-packages (from python-dateutil>=2.6.1->pandas->CustTrans==0.1) (1.11.0)\n",
      "Building wheels for collected packages: CustTrans\n",
      "  Building wheel for CustTrans (setup.py) ... \u001b[?25ldone\n",
      "\u001b[?25h  Created wheel for CustTrans: filename=CustTrans-0.1-cp36-none-any.whl size=1791 sha256=ed99f86c4890a45c6c6e8cc157991f7402c410e9f2a3f62fbf2b8a4d695d280e\n",
      "  Stored in directory: /user-home/999/.cache/pip/wheels/a0/88/29/9e0ddf3e5399d7652900e3dea3deb8279c74abb34474a33b84\n",
      "Successfully built CustTrans\n",
      "Installing collected packages: CustTrans\n",
      "  Found existing installation: CustTrans 0.1\n",
      "    Uninstalling CustTrans-0.1:\n",
      "      Successfully uninstalled CustTrans-0.1\n",
      "Successfully installed CustTrans-0.1\n"
     ]
    }
   ],
   "source": [
    "!pip install --upgrade CustTrans-0.2.zip"
   ]
  },
  {
   "cell_type": "code",
   "execution_count": 10,
   "metadata": {},
   "outputs": [],
   "source": [
    "from CustomTransformer.CustTrans import TypeSelector,StringIndexer,ConvToCategorical"
   ]
  },
  {
   "cell_type": "code",
   "execution_count": 11,
   "metadata": {},
   "outputs": [
    {
     "name": "stderr",
     "output_type": "stream",
     "text": [
      "/opt/conda/lib/python3.6/site-packages/sklearn/ensemble/weight_boosting.py:29: DeprecationWarning: numpy.core.umath_tests is an internal NumPy module and should not be imported. It will be removed in a future NumPy release.\n",
      "  from numpy.core.umath_tests import inner1d\n"
     ]
    }
   ],
   "source": [
    "import pandas as pd\n",
    "import numpy as np\n",
    "from sklearn.pipeline import Pipeline, FeatureUnion\n",
    "from sklearn.preprocessing import OneHotEncoder, StandardScaler\n",
    "from sklearn.ensemble import RandomForestClassifier\n",
    "from sklearn_pandas import DataFrameMapper\n",
    "\n",
    "\n",
    "transformer = Pipeline([\n",
    "   ('features', FeatureUnion(n_jobs=1, transformer_list=[\n",
    "       # Part 1\n",
    "       ('boolean', Pipeline([\n",
    "           ('selector', TypeSelector('bool')),\n",
    "       ])),  # booleans close\n",
    "\n",
    "       ('numericals', Pipeline([\n",
    "           ('selector', TypeSelector(np.number)),\n",
    "           ('scaler', StandardScaler()),\n",
    "       ])),\n",
    "       # Part 2\n",
    "       ('categoricals', Pipeline([\n",
    "           ('convertor', ConvToCategorical()),\n",
    "           ('selector', TypeSelector('category')),\n",
    "           ('labeler', StringIndexer()),\n",
    "           ('encoder', OneHotEncoder(handle_unknown='ignore')),\n",
    "       ]))\n",
    "       # categoricals close\n",
    "   ])),  # features close\n",
    "   ('clf' , RandomForestClassifier(n_estimators=30,criterion=\"entropy\")),\n",
    "    \n",
    "])"
   ]
  },
  {
   "cell_type": "markdown",
   "metadata": {},
   "source": [
    "## Lets now pass the data through the transformer(fit)"
   ]
  },
  {
   "cell_type": "code",
   "execution_count": 12,
   "metadata": {},
   "outputs": [
    {
     "name": "stdout",
     "output_type": "stream",
     "text": [
      "Time for model training 140.19156982700224\n"
     ]
    }
   ],
   "source": [
    "import timeit\n",
    "start_time = timeit.default_timer()\n",
    "transformer.fit(X_train, y_train)\n",
    "print(\"Time for model training\",timeit.default_timer() - start_time)"
   ]
  },
  {
   "cell_type": "markdown",
   "metadata": {},
   "source": [
    "## Lets now evaluate the accuracy of the model using our hold-out test data"
   ]
  },
  {
   "cell_type": "code",
   "execution_count": 13,
   "metadata": {},
   "outputs": [
    {
     "data": {
      "text/plain": [
       "0.8862641138929799"
      ]
     },
     "execution_count": 13,
     "metadata": {},
     "output_type": "execute_result"
    }
   ],
   "source": [
    "scores= transformer.predict(X_test)\n",
    "from sklearn.metrics import accuracy_score\n",
    "accuracy = accuracy_score(y_test, scores)\n",
    "accuracy"
   ]
  },
  {
   "cell_type": "markdown",
   "metadata": {},
   "source": [
    "## Lets now save and deploy the model to WML"
   ]
  },
  {
   "cell_type": "code",
   "execution_count": 14,
   "metadata": {},
   "outputs": [],
   "source": [
    "from watson_machine_learning_client import WatsonMachineLearningAPIClient"
   ]
  },
  {
   "cell_type": "code",
   "execution_count": 15,
   "metadata": {},
   "outputs": [
    {
     "name": "stdout",
     "output_type": "stream",
     "text": [
      "------------------------------------  ----------------------------------------  ------  --------------  ------------------------  -----------------  -------------\n",
      "GUID                                  NAME                                      TYPE    STATE           CREATED                   FRAMEWORK          ARTIFACT TYPE\n",
      "548ebcda-8a50-4e53-a41c-13bca6ddbd55  ReturnRiskPandas_CustomTransformers_v0.1  online  DEPLOY_SUCCESS  2019-06-17T05:45:01.842Z  scikit-learn-0.19  model\n",
      "------------------------------------  ----------------------------------------  ------  --------------  ------------------------  -----------------  -------------\n"
     ]
    }
   ],
   "source": [
    "wml_credentials = {\n",
    "                    \"url\": \"https://9.30.250.35\",\n",
    "                    \"username\": \"admin\",\n",
    "                    \"password\": \"password\",\n",
    "                    \"instance_id\": \"icp\"               \n",
    " }\n",
    "client = WatsonMachineLearningAPIClient(wml_credentials)\n",
    "client.deployments.list()"
   ]
  },
  {
   "cell_type": "markdown",
   "metadata": {},
   "source": [
    "## Before we dploy the model, lets create a custom python runtime with our custom transformer library installed"
   ]
  },
  {
   "cell_type": "code",
   "execution_count": 16,
   "metadata": {},
   "outputs": [
    {
     "name": "stdout",
     "output_type": "stream",
     "text": [
      "Custom Library UID: c277271e-c62e-4c4d-aa4f-2bafb35944cc\n"
     ]
    }
   ],
   "source": [
    "lib_meta = {\n",
    "        client.runtimes.LibraryMetaNames.NAME: \"CustomTransformers_v0.1\",\n",
    "        client.runtimes.LibraryMetaNames.DESCRIPTION: \"CustomTransformers_v0.1\",\n",
    "        client.runtimes.LibraryMetaNames.FILEPATH: \"CustTrans-0.2.zip\",\n",
    "        client.runtimes.LibraryMetaNames.VERSION: \"1.0\",\n",
    "        client.runtimes.LibraryMetaNames.PLATFORM: {\"name\": \"python\", \"versions\": [\"3.6\"]}\n",
    "    }\n",
    "custom_library_details = client.runtimes.store_library(lib_meta)\n",
    "custom_library_uid = client.runtimes.get_library_uid(custom_library_details)\n",
    "print(\"Custom Library UID: \" + custom_library_uid)"
   ]
  },
  {
   "cell_type": "code",
   "execution_count": 17,
   "metadata": {},
   "outputs": [],
   "source": [
    "runtimes_meta = {\n",
    "    client.runtimes.ConfigurationMetaNames.NAME: \"CustomTransformers_v0.1\", \n",
    "    client.runtimes.ConfigurationMetaNames.DESCRIPTION: \"CustomTransformers_v0.1\", \n",
    "    client.runtimes.ConfigurationMetaNames.PLATFORM: { \"name\": \"python\", \"version\": \"3.6\" }, \n",
    "    client.runtimes.ConfigurationMetaNames.LIBRARIES_UIDS: [custom_library_uid]\n",
    "}"
   ]
  },
  {
   "cell_type": "code",
   "execution_count": 18,
   "metadata": {},
   "outputs": [
    {
     "data": {
      "text/plain": [
       "{'metadata': {'guid': '88f85e41-be1f-4ee4-9750-378c777c3d01',\n",
       "  'url': 'https://9.30.250.35:31002/v4/runtimes/88f85e41-be1f-4ee4-9750-378c777c3d01',\n",
       "  'created_at': '2019-10-22T08:33:05.514Z'},\n",
       " 'entity': {'name': 'CustomTransformers_v0.1',\n",
       "  'description': 'CustomTransformers_v0.1',\n",
       "  'custom_libraries': [{'name': 'CustomTransformers_v0.1',\n",
       "    'version': '1.0',\n",
       "    'url': 'https://9.30.250.35:31002/v4/libraries/c277271e-c62e-4c4d-aa4f-2bafb35944cc'}],\n",
       "  'content_url': 'https://9.30.250.35:31002/v4/runtimes/88f85e41-be1f-4ee4-9750-378c777c3d01/content',\n",
       "  'platform': {'name': 'python', 'version': '3.6'}}}"
      ]
     },
     "execution_count": 18,
     "metadata": {},
     "output_type": "execute_result"
    }
   ],
   "source": [
    "runtime_details = client.runtimes.store(runtimes_meta)\n",
    "runtime_details"
   ]
  },
  {
   "cell_type": "code",
   "execution_count": 19,
   "metadata": {},
   "outputs": [
    {
     "name": "stdout",
     "output_type": "stream",
     "text": [
      "Runtimes URL: https://9.30.250.35:31002/v4/runtimes/88f85e41-be1f-4ee4-9750-378c777c3d01\n",
      "Runtimes UID: 88f85e41-be1f-4ee4-9750-378c777c3d01\n"
     ]
    }
   ],
   "source": [
    "runtime_url = client.runtimes.get_url(runtime_details)\n",
    "runtime_uid = client.runtimes.get_uid(runtime_details)\n",
    "print(\"Runtimes URL: \" + runtime_url)\n",
    "print(\"Runtimes UID: \" + runtime_uid)"
   ]
  },
  {
   "cell_type": "code",
   "execution_count": 20,
   "metadata": {},
   "outputs": [],
   "source": [
    "model_props = {client.repository.ModelMetaNames.NAME: \"ReturnRiskPandas_v0.1\",\n",
    "               client.repository.ModelMetaNames.RUNTIME_UID: runtime_uid\n",
    "              }"
   ]
  },
  {
   "cell_type": "code",
   "execution_count": 21,
   "metadata": {},
   "outputs": [],
   "source": [
    "published_model = client.repository.store_model(model=transformer, meta_props=model_props,training_data=X_train, training_target=y_train)\n",
    "published_model_uid = client.repository.get_model_uid(published_model)\n",
    "model_details = client.repository.get_details(published_model_uid)"
   ]
  },
  {
   "cell_type": "code",
   "execution_count": 22,
   "metadata": {},
   "outputs": [
    {
     "name": "stdout",
     "output_type": "stream",
     "text": [
      "{\n",
      "  \"metadata\": {\n",
      "    \"guid\": \"c1261ed8-01ca-4340-9f20-acfdd2f5bdc0\",\n",
      "    \"url\": \"https://9.30.250.35:31002/v3/wml_instances/999/published_models/c1261ed8-01ca-4340-9f20-acfdd2f5bdc0\",\n",
      "    \"created_at\": \"2019-10-22T08:33:12.256Z\",\n",
      "    \"modified_at\": \"2019-10-22T08:33:13.926Z\"\n",
      "  },\n",
      "  \"entity\": {\n",
      "    \"runtime_environment\": \"python-3.6\",\n",
      "    \"learning_configuration_url\": \"https://9.30.250.35:31002/v3/wml_instances/999/published_models/c1261ed8-01ca-4340-9f20-acfdd2f5bdc0/learning_configuration\",\n",
      "    \"name\": \"ReturnRiskPandas_v0.1\",\n",
      "    \"label_col\": \"RETURN_FLAG\",\n",
      "    \"learning_iterations_url\": \"https://9.30.250.35:31002/v3/wml_instances/999/published_models/c1261ed8-01ca-4340-9f20-acfdd2f5bdc0/learning_iterations\",\n",
      "    \"training_data_schema\": {\n",
      "      \"features\": {\n",
      "        \"type\": \"DataFrame\",\n",
      "        \"fields\": [\n",
      "          {\n",
      "            \"name\": \"BASKET_SIZE\",\n",
      "            \"type\": \"int64\"\n",
      "          },\n",
      "          {\n",
      "            \"name\": \"EXTN_COMPOSITION\",\n",
      "            \"type\": \"category\"\n",
      "          },\n",
      "          {\n",
      "            \"name\": \"CARRIER_SERVICE_CODE_OL\",\n",
      "            \"type\": \"category\"\n",
      "          },\n",
      "          {\n",
      "            \"name\": \"CATEGORY\",\n",
      "            \"type\": \"category\"\n",
      "          },\n",
      "          {\n",
      "            \"name\": \"COUNTRY_OF_ORIGIN_OI\",\n",
      "            \"type\": \"category\"\n",
      "          },\n",
      "          {\n",
      "            \"name\": \"DAY_OF_MONTH\",\n",
      "            \"type\": \"int64\"\n",
      "          },\n",
      "          {\n",
      "            \"name\": \"DAY_OF_WEEK\",\n",
      "            \"type\": \"category\"\n",
      "          },\n",
      "          {\n",
      "            \"name\": \"DAY_OF_YEAR\",\n",
      "            \"type\": \"int64\"\n",
      "          },\n",
      "          {\n",
      "            \"name\": \"EXTN_BRAND\",\n",
      "            \"type\": \"category\"\n",
      "          },\n",
      "          {\n",
      "            \"name\": \"EXTN_DISCOUNT_ID\",\n",
      "            \"type\": \"category\"\n",
      "          },\n",
      "          {\n",
      "            \"name\": \"EXTN_IS_GIFT\",\n",
      "            \"type\": \"category\"\n",
      "          },\n",
      "          {\n",
      "            \"name\": \"EXTN_IS_PREORDER\",\n",
      "            \"type\": \"category\"\n",
      "          },\n",
      "          {\n",
      "            \"name\": \"EXTN_SHIP_TO_CITY\",\n",
      "            \"type\": \"category\"\n",
      "          },\n",
      "          {\n",
      "            \"name\": \"EXTN_SHIP_TO_COUNTRY\",\n",
      "            \"type\": \"category\"\n",
      "          },\n",
      "          {\n",
      "            \"name\": \"EXTN_SEASON\",\n",
      "            \"type\": \"category\"\n",
      "          },\n",
      "          {\n",
      "            \"name\": \"LIST_PRICE\",\n",
      "            \"type\": \"int64\"\n",
      "          },\n",
      "          {\n",
      "            \"name\": \"MONTH_OF_YEAR\",\n",
      "            \"type\": \"int64\"\n",
      "          },\n",
      "          {\n",
      "            \"name\": \"OTHER_CHARGES\",\n",
      "            \"type\": \"float64\"\n",
      "          },\n",
      "          {\n",
      "            \"name\": \"OTHER_CHARGES_OL\",\n",
      "            \"type\": \"float64\"\n",
      "          },\n",
      "          {\n",
      "            \"name\": \"REQ_DELIVERY_DATE\",\n",
      "            \"type\": \"int64\"\n",
      "          },\n",
      "          {\n",
      "            \"name\": \"TOTAL_AMOUNT_USD\",\n",
      "            \"type\": \"float64\"\n",
      "          },\n",
      "          {\n",
      "            \"name\": \"WEEKEND\",\n",
      "            \"type\": \"int64\"\n",
      "          },\n",
      "          {\n",
      "            \"name\": \"ZIP_CODE\",\n",
      "            \"type\": \"category\"\n",
      "          },\n",
      "          {\n",
      "            \"name\": \"MTS_CTS\",\n",
      "            \"type\": \"int64\"\n",
      "          },\n",
      "          {\n",
      "            \"name\": \"HOUR_OF_DAY\",\n",
      "            \"type\": \"int64\"\n",
      "          },\n",
      "          {\n",
      "            \"name\": \"LOCKID\",\n",
      "            \"type\": \"int64\"\n",
      "          }\n",
      "        ]\n",
      "      },\n",
      "      \"labels\": {\n",
      "        \"type\": \"Series\",\n",
      "        \"fields\": [\n",
      "          {\n",
      "            \"name\": \"RETURN_FLAG\",\n",
      "            \"type\": \"int64\"\n",
      "          }\n",
      "        ]\n",
      "      }\n",
      "    },\n",
      "    \"feedback_url\": \"https://9.30.250.35:31002/v3/wml_instances/999/published_models/c1261ed8-01ca-4340-9f20-acfdd2f5bdc0/feedback\",\n",
      "    \"latest_version\": {\n",
      "      \"url\": \"https://9.30.250.35:31002/v3/ml_assets/models/c1261ed8-01ca-4340-9f20-acfdd2f5bdc0/versions/efaa8733-67fd-4447-bed6-b83255507f81\",\n",
      "      \"guid\": \"efaa8733-67fd-4447-bed6-b83255507f81\",\n",
      "      \"created_at\": \"2019-10-22T08:33:13.926Z\"\n",
      "    },\n",
      "    \"model_type\": \"scikit-learn-0.19\",\n",
      "    \"deployments\": {\n",
      "      \"count\": 0,\n",
      "      \"url\": \"https://9.30.250.35:31002/v3/wml_instances/999/published_models/c1261ed8-01ca-4340-9f20-acfdd2f5bdc0/deployments\"\n",
      "    },\n",
      "    \"evaluation_metrics_url\": \"https://9.30.250.35:31002/v3/wml_instances/999/published_models/c1261ed8-01ca-4340-9f20-acfdd2f5bdc0/evaluation_metrics\",\n",
      "    \"input_data_schema\": {\n",
      "      \"features\": {\n",
      "        \"type\": \"DataFrame\",\n",
      "        \"fields\": [\n",
      "          {\n",
      "            \"name\": \"BASKET_SIZE\",\n",
      "            \"type\": \"int64\"\n",
      "          },\n",
      "          {\n",
      "            \"name\": \"EXTN_COMPOSITION\",\n",
      "            \"type\": \"category\"\n",
      "          },\n",
      "          {\n",
      "            \"name\": \"CARRIER_SERVICE_CODE_OL\",\n",
      "            \"type\": \"category\"\n",
      "          },\n",
      "          {\n",
      "            \"name\": \"CATEGORY\",\n",
      "            \"type\": \"category\"\n",
      "          },\n",
      "          {\n",
      "            \"name\": \"COUNTRY_OF_ORIGIN_OI\",\n",
      "            \"type\": \"category\"\n",
      "          },\n",
      "          {\n",
      "            \"name\": \"DAY_OF_MONTH\",\n",
      "            \"type\": \"int64\"\n",
      "          },\n",
      "          {\n",
      "            \"name\": \"DAY_OF_WEEK\",\n",
      "            \"type\": \"category\"\n",
      "          },\n",
      "          {\n",
      "            \"name\": \"DAY_OF_YEAR\",\n",
      "            \"type\": \"int64\"\n",
      "          },\n",
      "          {\n",
      "            \"name\": \"EXTN_BRAND\",\n",
      "            \"type\": \"category\"\n",
      "          },\n",
      "          {\n",
      "            \"name\": \"EXTN_DISCOUNT_ID\",\n",
      "            \"type\": \"category\"\n",
      "          },\n",
      "          {\n",
      "            \"name\": \"EXTN_IS_GIFT\",\n",
      "            \"type\": \"category\"\n",
      "          },\n",
      "          {\n",
      "            \"name\": \"EXTN_IS_PREORDER\",\n",
      "            \"type\": \"category\"\n",
      "          },\n",
      "          {\n",
      "            \"name\": \"EXTN_SHIP_TO_CITY\",\n",
      "            \"type\": \"category\"\n",
      "          },\n",
      "          {\n",
      "            \"name\": \"EXTN_SHIP_TO_COUNTRY\",\n",
      "            \"type\": \"category\"\n",
      "          },\n",
      "          {\n",
      "            \"name\": \"EXTN_SEASON\",\n",
      "            \"type\": \"category\"\n",
      "          },\n",
      "          {\n",
      "            \"name\": \"LIST_PRICE\",\n",
      "            \"type\": \"int64\"\n",
      "          },\n",
      "          {\n",
      "            \"name\": \"MONTH_OF_YEAR\",\n",
      "            \"type\": \"int64\"\n",
      "          },\n",
      "          {\n",
      "            \"name\": \"OTHER_CHARGES\",\n",
      "            \"type\": \"float64\"\n",
      "          },\n",
      "          {\n",
      "            \"name\": \"OTHER_CHARGES_OL\",\n",
      "            \"type\": \"float64\"\n",
      "          },\n",
      "          {\n",
      "            \"name\": \"REQ_DELIVERY_DATE\",\n",
      "            \"type\": \"int64\"\n",
      "          },\n",
      "          {\n",
      "            \"name\": \"TOTAL_AMOUNT_USD\",\n",
      "            \"type\": \"float64\"\n",
      "          },\n",
      "          {\n",
      "            \"name\": \"WEEKEND\",\n",
      "            \"type\": \"int64\"\n",
      "          },\n",
      "          {\n",
      "            \"name\": \"ZIP_CODE\",\n",
      "            \"type\": \"category\"\n",
      "          },\n",
      "          {\n",
      "            \"name\": \"MTS_CTS\",\n",
      "            \"type\": \"int64\"\n",
      "          },\n",
      "          {\n",
      "            \"name\": \"HOUR_OF_DAY\",\n",
      "            \"type\": \"int64\"\n",
      "          },\n",
      "          {\n",
      "            \"name\": \"LOCKID\",\n",
      "            \"type\": \"int64\"\n",
      "          }\n",
      "        ]\n",
      "      },\n",
      "      \"labels\": {\n",
      "        \"type\": \"Series\",\n",
      "        \"fields\": [\n",
      "          {\n",
      "            \"name\": \"RETURN_FLAG\",\n",
      "            \"type\": \"int64\"\n",
      "          }\n",
      "        ]\n",
      "      }\n",
      "    },\n",
      "    \"runtime\": {\n",
      "      \"url\": \"https://9.30.250.35:31002/v4/runtimes/88f85e41-be1f-4ee4-9750-378c777c3d01\"\n",
      "    }\n",
      "  }\n",
      "}\n"
     ]
    }
   ],
   "source": [
    "import json\n",
    "print(json.dumps(model_details, indent=2))"
   ]
  },
  {
   "cell_type": "code",
   "execution_count": 23,
   "metadata": {},
   "outputs": [
    {
     "name": "stdout",
     "output_type": "stream",
     "text": [
      "\n",
      "\n",
      "#######################################################################################\n",
      "\n",
      "Synchronous deployment creation for uid: 'c1261ed8-01ca-4340-9f20-acfdd2f5bdc0' started\n",
      "\n",
      "#######################################################################################\n",
      "\n",
      "\n",
      "INITIALIZING\n",
      "DEPLOY_IN_PROGRESS....................................................\n",
      "DEPLOY_SUCCESS\n",
      "\n",
      "\n",
      "------------------------------------------------------------------------------------------------\n",
      "Successfully finished deployment creation, deployment_uid='63873816-3872-4d97-94c8-5cf7c307cb2c'\n",
      "------------------------------------------------------------------------------------------------\n",
      "\n",
      "\n"
     ]
    }
   ],
   "source": [
    "created_deployment = client.deployments.create(published_model_uid, name=\"ReturnRiskPandas_CustomTransformers_v0.2\")"
   ]
  },
  {
   "cell_type": "markdown",
   "metadata": {},
   "source": [
    "## Now that we have deployed the model lets get the scroing url for the REST-API interface"
   ]
  },
  {
   "cell_type": "code",
   "execution_count": 24,
   "metadata": {},
   "outputs": [
    {
     "name": "stdout",
     "output_type": "stream",
     "text": [
      "https://9.30.250.35:32006/v3/scoring/online/63873816-3872-4d97-94c8-5cf7c307cb2c\n"
     ]
    }
   ],
   "source": [
    "scoring_endpoint = client.deployments.get_scoring_url(created_deployment)\n",
    "print(scoring_endpoint)"
   ]
  },
  {
   "cell_type": "markdown",
   "metadata": {},
   "source": [
    "## Here we have a sample payload. Lets try scoring this using our model"
   ]
  },
  {
   "cell_type": "code",
   "execution_count": 25,
   "metadata": {},
   "outputs": [],
   "source": [
    "scoring_payload={\"fields\":[\"BASKET_SIZE\",\"EXTN_COMPOSITION\",\"CARRIER_SERVICE_CODE_OL\",\"CATEGORY\",\"COUNTRY_OF_ORIGIN_OI\",\"DAY_OF_MONTH\",\"DAY_OF_WEEK\",\"DAY_OF_YEAR\",\"EXTN_BRAND\",\"EXTN_CHRISTMAS_GUARANTEE\",\"EXTN_DISCOUNT_ID\",\"EXTN_IS_FAST_DELIVERY\",\"EXTN_IS_GIFT\",\"EXTN_IS_PREORDER\",\"EXTN_SHIP_TO_CITY\",\"EXTN_SHIP_TO_COUNTRY\",\"EXTN_SEASON\",\"LIST_PRICE\",\"MONTH_OF_YEAR\",\"OTHER_CHARGES\",\"OTHER_CHARGES_OL\",\"REQ_DELIVERY_DATE\",\"TOTAL_AMOUNT_USD\",\"WEEKEND\",\"ZIP_CODE\",\"MTS_CTS\",\"HOUR_OF_DAY\",\"LOCKID\"],\"values\":[[3, '91% Nylon, 9% Elastercell', 'STANDARD', 'Bikini', 'US', 18, 'Saturday', 322, 'XYZAI', 'None', 'N', 'N', 'Los Angeles', 'US', 'FW17', 75, 11, 0.0, 0.0, 0, 165.35, 1, 'Zipcode_401', 24, 19, 277]]}"
   ]
  },
  {
   "cell_type": "code",
   "execution_count": 26,
   "metadata": {},
   "outputs": [],
   "source": [
    "prediction = client.deployments.score(scoring_endpoint, scoring_payload)"
   ]
  },
  {
   "cell_type": "code",
   "execution_count": 27,
   "metadata": {},
   "outputs": [
    {
     "data": {
      "text/plain": [
       "{'values': [[0, [0.6333333333333333, 0.36666666666666664]]],\n",
       " 'fields': ['prediction', 'probability']}"
      ]
     },
     "execution_count": 27,
     "metadata": {},
     "output_type": "execute_result"
    }
   ],
   "source": [
    "prediction"
   ]
  },
  {
   "cell_type": "code",
   "execution_count": null,
   "metadata": {},
   "outputs": [],
   "source": []
  }
 ],
 "metadata": {
  "kernelspec": {
   "display_name": "Python3.6",
   "language": "python",
   "name": "python3"
  },
  "language_info": {
   "codemirror_mode": {
    "name": "ipython",
    "version": 3
   },
   "file_extension": ".py",
   "mimetype": "text/x-python",
   "name": "python",
   "nbconvert_exporter": "python",
   "pygments_lexer": "ipython3",
   "version": "3.6.7"
  }
 },
 "nbformat": 4,
 "nbformat_minor": 2
}
